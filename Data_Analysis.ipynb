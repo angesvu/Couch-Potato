{
 "cells": [
  {
   "cell_type": "code",
   "execution_count": 1,
   "metadata": {},
   "outputs": [],
   "source": [
    "from bs4 import BeautifulSoup\n",
    "import pandas as pd\n",
    "import urllib\n",
    "import webbrowser\n",
    "import os\n",
    "import numpy as np"
   ]
  },
  {
   "cell_type": "code",
   "execution_count": 2,
   "metadata": {},
   "outputs": [],
   "source": [
    "url = \"https://quiz.ucsd.edu/lcl/www-data/CouchPotato/\""
   ]
  },
  {
   "cell_type": "code",
   "execution_count": 3,
   "metadata": {},
   "outputs": [],
   "source": [
    "content = urllib.request.urlopen(url)"
   ]
  },
  {
   "cell_type": "code",
   "execution_count": 4,
   "metadata": {},
   "outputs": [],
   "source": [
    "soup = BeautifulSoup(content)"
   ]
  },
  {
   "cell_type": "code",
   "execution_count": 5,
   "metadata": {},
   "outputs": [],
   "source": [
    "#https://quiz.ucsd.edu/lcl/www-data/CouchPotato/0fra.csv"
   ]
  },
  {
   "cell_type": "code",
   "execution_count": 6,
   "metadata": {},
   "outputs": [],
   "source": [
    "links = soup.find_all(\"li\")"
   ]
  },
  {
   "cell_type": "code",
   "execution_count": 7,
   "metadata": {},
   "outputs": [],
   "source": [
    "#for link in links:\n",
    "#    if 'csv' in link.text:\n",
    "#        webbrowser.open(url+link.text.strip())        "
   ]
  },
  {
   "cell_type": "code",
   "execution_count": 8,
   "metadata": {},
   "outputs": [
    {
     "name": "stderr",
     "output_type": "stream",
     "text": [
      "/Users/jordanlevy/Desktop/anaconda3/lib/python3.7/site-packages/pandas/core/frame.py:7138: FutureWarning: Sorting because non-concatenation axis is not aligned. A future version\n",
      "of pandas will change to not sort by default.\n",
      "\n",
      "To accept the future behavior, pass 'sort=False'.\n",
      "\n",
      "To retain the current behavior and silence the warning, pass 'sort=True'.\n",
      "\n",
      "  sort=sort,\n"
     ]
    },
    {
     "data": {
      "text/plain": [
       "Index(['data_type', 'id', 'int_type', 'int_type_1', 'int_type_2',\n",
       "       'internal_node_id', 'noun_type', 'response', 'rt', 'stimulus',\n",
       "       'sub_type', 'sub_type_1', 'sub_type_2', 'time_elapsed', 'trial_index',\n",
       "       'trial_type', 'url', 'viet_int_type', 'viet_int_type_1',\n",
       "       'viet_int_type_2', 'viet_noun_type', 'viet_sub_type', 'viet_sub_type_1',\n",
       "       'viet_sub_type_2', 'view_history'],\n",
       "      dtype='object')"
      ]
     },
     "execution_count": 8,
     "metadata": {},
     "output_type": "execute_result"
    }
   ],
   "source": [
    "master_dataset = pd.DataFrame()\n",
    "for r in os.listdir('Data'):\n",
    "    response = pd.read_csv('Data/'+r)\n",
    "    response['id'] = r.replace('.csv', '')\n",
    "    master_dataset = master_dataset.append(response)\n",
    "master_dataset = master_dataset.reset_index(drop=True)\n",
    "master_dataset.columns"
   ]
  },
  {
   "cell_type": "code",
   "execution_count": 9,
   "metadata": {},
   "outputs": [],
   "source": [
    "responses = master_dataset[master_dataset['response'].isnull() != True].reset_index(drop=True)\n",
    "responses['response'] /= 6"
   ]
  },
  {
   "cell_type": "code",
   "execution_count": 10,
   "metadata": {},
   "outputs": [],
   "source": [
    "responses['response'] /= 6"
   ]
  },
  {
   "cell_type": "code",
   "execution_count": 11,
   "metadata": {},
   "outputs": [],
   "source": [
    "data_type_groups = responses.groupby('data_type')"
   ]
  },
  {
   "cell_type": "code",
   "execution_count": 12,
   "metadata": {
    "scrolled": true
   },
   "outputs": [
    {
     "data": {
      "text/plain": [
       "<matplotlib.axes._subplots.AxesSubplot at 0x11d6cf510>"
      ]
     },
     "execution_count": 12,
     "metadata": {},
     "output_type": "execute_result"
    },
    {
     "data": {
      "image/png": "[encoded data removed]",
      "text/plain": [
       "<Figure size 432x288 with 1 Axes>"
      ]
     },
     "metadata": {
      "needs_background": "light"
     },
     "output_type": "display_data"
    }
   ],
   "source": [
    "data_type_groups['response'].apply(np.mean).plot.bar(ylim=[0,1])"
   ]
  },
  {
   "cell_type": "code",
   "execution_count": null,
   "metadata": {},
   "outputs": [],
   "source": []
  },
  {
   "cell_type": "code",
   "execution_count": 13,
   "metadata": {},
   "outputs": [
    {
     "data": {
      "text/plain": [
       "yellow     82\n",
       "dirty      80\n",
       "red        78\n",
       "clean      77\n",
       "round      74\n",
       "square     73\n",
       "plastic    48\n",
       "wooden     48\n",
       "Name: int_type_1, dtype: int64"
      ]
     },
     "execution_count": 13,
     "metadata": {},
     "output_type": "execute_result"
    }
   ],
   "source": [
    "master_dataset['int_type_1'].value_counts()"
   ]
  },
  {
   "cell_type": "code",
   "execution_count": 14,
   "metadata": {},
   "outputs": [],
   "source": [
    "filters = pd.read_csv('LIGN_Honors_filters.csv')\n",
    "filters.columns = ['Word Type', 'Intersective_V', 'Intersective_E', 'Intersective_Class',  \\\n",
    "                                'Subsective_V', 'Subsective_E', 'Subsective_Class']"
   ]
  },
  {
   "cell_type": "code",
   "execution_count": 15,
   "metadata": {},
   "outputs": [],
   "source": [
    "filters_adj = filters.loc[filters.index[:8].values].drop('Word Type', axis=1)\n",
    "filters_noun = filters.loc[filters.index[8:].values].drop('Word Type', axis=1)"
   ]
  },
  {
   "cell_type": "code",
   "execution_count": 16,
   "metadata": {},
   "outputs": [
    {
     "data": {
      "text/html": [
       "<div>\n",
       "<style scoped>\n",
       "    .dataframe tbody tr th:only-of-type {\n",
       "        vertical-align: middle;\n",
       "    }\n",
       "\n",
       "    .dataframe tbody tr th {\n",
       "        vertical-align: top;\n",
       "    }\n",
       "\n",
       "    .dataframe thead th {\n",
       "        text-align: right;\n",
       "    }\n",
       "</style>\n",
       "<table border=\"1\" class=\"dataframe\">\n",
       "  <thead>\n",
       "    <tr style=\"text-align: right;\">\n",
       "      <th></th>\n",
       "      <th>Intersective_V</th>\n",
       "      <th>Intersective_E</th>\n",
       "      <th>Intersective_Class</th>\n",
       "      <th>Subsective_V</th>\n",
       "      <th>Subsective_E</th>\n",
       "      <th>Subsective_Class</th>\n",
       "    </tr>\n",
       "  </thead>\n",
       "  <tbody>\n",
       "    <tr>\n",
       "      <th>0</th>\n",
       "      <td>màu đỏ</td>\n",
       "      <td>red</td>\n",
       "      <td>color</td>\n",
       "      <td>ngọt</td>\n",
       "      <td>sweet</td>\n",
       "      <td>taste</td>\n",
       "    </tr>\n",
       "    <tr>\n",
       "      <th>1</th>\n",
       "      <td>màu vàng</td>\n",
       "      <td>yellow</td>\n",
       "      <td>color</td>\n",
       "      <td>đắng</td>\n",
       "      <td>bitter</td>\n",
       "      <td>taste</td>\n",
       "    </tr>\n",
       "    <tr>\n",
       "      <th>2</th>\n",
       "      <td>hình tròn</td>\n",
       "      <td>round</td>\n",
       "      <td>shape</td>\n",
       "      <td>đẹp</td>\n",
       "      <td>beautiful</td>\n",
       "      <td>value</td>\n",
       "    </tr>\n",
       "    <tr>\n",
       "      <th>3</th>\n",
       "      <td>hình vuông</td>\n",
       "      <td>square</td>\n",
       "      <td>shape</td>\n",
       "      <td>xấu</td>\n",
       "      <td>ugly</td>\n",
       "      <td>value</td>\n",
       "    </tr>\n",
       "    <tr>\n",
       "      <th>4</th>\n",
       "      <td>dơ</td>\n",
       "      <td>dirty</td>\n",
       "      <td>appearance</td>\n",
       "      <td>lớn</td>\n",
       "      <td>big</td>\n",
       "      <td>size</td>\n",
       "    </tr>\n",
       "    <tr>\n",
       "      <th>5</th>\n",
       "      <td>sạch</td>\n",
       "      <td>clean</td>\n",
       "      <td>appearance</td>\n",
       "      <td>nhỏ</td>\n",
       "      <td>small</td>\n",
       "      <td>size</td>\n",
       "    </tr>\n",
       "    <tr>\n",
       "      <th>6</th>\n",
       "      <td>nhựa</td>\n",
       "      <td>plastic</td>\n",
       "      <td>material</td>\n",
       "      <td>cao</td>\n",
       "      <td>tall</td>\n",
       "      <td>height</td>\n",
       "    </tr>\n",
       "    <tr>\n",
       "      <th>7</th>\n",
       "      <td>gỗ</td>\n",
       "      <td>wooden</td>\n",
       "      <td>material</td>\n",
       "      <td>thấp</td>\n",
       "      <td>short</td>\n",
       "      <td>height</td>\n",
       "    </tr>\n",
       "  </tbody>\n",
       "</table>\n",
       "</div>"
      ],
      "text/plain": [
       "  Intersective_V Intersective_E Intersective_Class Subsective_V Subsective_E  \\\n",
       "0        màu đỏ             red              color         ngọt        sweet   \n",
       "1       màu vàng         yellow              color         đắng       bitter   \n",
       "2      hình tròn          round              shape          đẹp    beautiful   \n",
       "3     hình vuông         square              shape          xấu         ugly   \n",
       "4             dơ          dirty         appearance          lớn          big   \n",
       "5          sạch          clean         appearance          nhỏ        small   \n",
       "6           nhựa        plastic           material          cao         tall   \n",
       "7             gỗ         wooden           material         thấp        short   \n",
       "\n",
       "  Subsective_Class  \n",
       "0            taste  \n",
       "1            taste  \n",
       "2            value  \n",
       "3            value  \n",
       "4             size  \n",
       "5             size  \n",
       "6           height  \n",
       "7           height  "
      ]
     },
     "execution_count": 16,
     "metadata": {},
     "output_type": "execute_result"
    }
   ],
   "source": [
    "filters_adj"
   ]
  },
  {
   "cell_type": "code",
   "execution_count": 17,
   "metadata": {},
   "outputs": [
    {
     "data": {
      "text/plain": [
       "{'red': 'color',\n",
       " 'yellow': 'color',\n",
       " 'round': 'shape',\n",
       " 'square': 'shape',\n",
       " 'dirty': 'appearance',\n",
       " 'clean': 'appearance',\n",
       " 'plastic': 'material',\n",
       " 'wooden': 'material'}"
      ]
     },
     "execution_count": 17,
     "metadata": {},
     "output_type": "execute_result"
    }
   ],
   "source": [
    "intersective_dict = dict(zip(filters_adj['Intersective_E'].values, filters_adj['Intersective_Class'].values))\n",
    "intersective_dict"
   ]
  },
  {
   "cell_type": "code",
   "execution_count": 18,
   "metadata": {},
   "outputs": [
    {
     "data": {
      "text/plain": [
       "{'sweet': 'taste',\n",
       " 'bitter': 'taste',\n",
       " 'beautiful': 'value',\n",
       " 'ugly': 'value',\n",
       " 'big': 'size',\n",
       " 'small': 'size',\n",
       " 'tall': 'height',\n",
       " 'short': 'height'}"
      ]
     },
     "execution_count": 18,
     "metadata": {},
     "output_type": "execute_result"
    }
   ],
   "source": [
    "subsective_dict = dict(zip(filters_adj['Subsective_E'].values, filters_adj['Subsective_Class'].values))\n",
    "subsective_dict"
   ]
  },
  {
   "cell_type": "code",
   "execution_count": 19,
   "metadata": {},
   "outputs": [
    {
     "data": {
      "text/plain": [
       "1680"
      ]
     },
     "execution_count": 19,
     "metadata": {},
     "output_type": "execute_result"
    }
   ],
   "source": [
    "len(responses)"
   ]
  },
  {
   "cell_type": "code",
   "execution_count": 20,
   "metadata": {},
   "outputs": [],
   "source": [
    "sub_1 = responses['sub_type'].replace(subsective_dict).dropna().append(responses['sub_type_1'].replace(subsective_dict).dropna())"
   ]
  },
  {
   "cell_type": "code",
   "execution_count": 21,
   "metadata": {},
   "outputs": [
    {
     "data": {
      "text/plain": [
       "1       value\n",
       "3       value\n",
       "5       taste\n",
       "11      value\n",
       "16       size\n",
       "        ...  \n",
       "1665    value\n",
       "1671    value\n",
       "1672    taste\n",
       "1674    value\n",
       "1679    value\n",
       "Length: 1079, dtype: object"
      ]
     },
     "execution_count": 21,
     "metadata": {},
     "output_type": "execute_result"
    }
   ],
   "source": [
    "sub_1"
   ]
  },
  {
   "cell_type": "code",
   "execution_count": 22,
   "metadata": {},
   "outputs": [
    {
     "data": {
      "text/html": [
       "<div>\n",
       "<style scoped>\n",
       "    .dataframe tbody tr th:only-of-type {\n",
       "        vertical-align: middle;\n",
       "    }\n",
       "\n",
       "    .dataframe tbody tr th {\n",
       "        vertical-align: top;\n",
       "    }\n",
       "\n",
       "    .dataframe thead th {\n",
       "        text-align: right;\n",
       "    }\n",
       "</style>\n",
       "<table border=\"1\" class=\"dataframe\">\n",
       "  <thead>\n",
       "    <tr style=\"text-align: right;\">\n",
       "      <th></th>\n",
       "      <th>data_type</th>\n",
       "      <th>id</th>\n",
       "      <th>int_type</th>\n",
       "      <th>int_type_1</th>\n",
       "      <th>int_type_2</th>\n",
       "      <th>internal_node_id</th>\n",
       "      <th>noun_type</th>\n",
       "      <th>response</th>\n",
       "      <th>rt</th>\n",
       "      <th>stimulus</th>\n",
       "      <th>...</th>\n",
       "      <th>trial_type</th>\n",
       "      <th>url</th>\n",
       "      <th>viet_int_type</th>\n",
       "      <th>viet_int_type_1</th>\n",
       "      <th>viet_int_type_2</th>\n",
       "      <th>viet_noun_type</th>\n",
       "      <th>viet_sub_type</th>\n",
       "      <th>viet_sub_type_1</th>\n",
       "      <th>viet_sub_type_2</th>\n",
       "      <th>view_history</th>\n",
       "    </tr>\n",
       "  </thead>\n",
       "  <tbody>\n",
       "  </tbody>\n",
       "</table>\n",
       "<p>0 rows × 25 columns</p>\n",
       "</div>"
      ],
      "text/plain": [
       "Empty DataFrame\n",
       "Columns: [data_type, id, int_type, int_type_1, int_type_2, internal_node_id, noun_type, response, rt, stimulus, sub_type, sub_type_1, sub_type_2, time_elapsed, trial_index, trial_type, url, viet_int_type, viet_int_type_1, viet_int_type_2, viet_noun_type, viet_sub_type, viet_sub_type_1, viet_sub_type_2, view_history]\n",
       "Index: []\n",
       "\n",
       "[0 rows x 25 columns]"
      ]
     },
     "execution_count": 22,
     "metadata": {},
     "output_type": "execute_result"
    }
   ],
   "source": [
    "responses[(responses['int_type_1'].isnull()) & (responses['int_type_2'].isnull() != True)]"
   ]
  },
  {
   "cell_type": "code",
   "execution_count": 23,
   "metadata": {},
   "outputs": [],
   "source": [
    "responses = master_dataset[master_dataset['response'].isnull() != True].reset_index(drop=True)\n",
    "responses['response'] /= 6"
   ]
  },
  {
   "cell_type": "code",
   "execution_count": 24,
   "metadata": {},
   "outputs": [],
   "source": [
    "responses = responses.drop(responses[(responses['sub_type_1'].isnull()) & (responses['sub_type_2'].isnull()!= True)].index)\n",
    "responses = responses.drop(responses[(responses['sub_type_1'].isnull()!=True) & (responses['sub_type_2'].isnull())].index)\n",
    "responses = responses.drop(responses[(responses['sub_type'].isnull()) & (responses['int_type'].isnull()!=True)].index)\n",
    "responses = responses.reset_index(drop=True)"
   ]
  },
  {
   "cell_type": "code",
   "execution_count": 25,
   "metadata": {},
   "outputs": [],
   "source": [
    "int_1 = responses['int_type_1'].replace(intersective_dict).dropna()\n",
    "sub_1 = responses['sub_type'].replace(subsective_dict).dropna().append(responses['sub_type_1'].replace(subsective_dict).dropna())"
   ]
  },
  {
   "cell_type": "code",
   "execution_count": 26,
   "metadata": {},
   "outputs": [],
   "source": [
    "word_1 = sub_1.append(int_1)\n",
    "word_1 = word_1.sort_index()"
   ]
  },
  {
   "cell_type": "code",
   "execution_count": 27,
   "metadata": {},
   "outputs": [],
   "source": [
    "sub_2 = responses['sub_type_2'].replace(subsective_dict).dropna()\n",
    "int_2 = responses['int_type'].replace(intersective_dict).dropna().append(responses['int_type_2'].replace(intersective_dict).dropna())"
   ]
  },
  {
   "cell_type": "code",
   "execution_count": 28,
   "metadata": {},
   "outputs": [],
   "source": [
    "word_2 = sub_2.append(int_2)\n",
    "word_2 = word_2.sort_index()"
   ]
  },
  {
   "cell_type": "code",
   "execution_count": 29,
   "metadata": {},
   "outputs": [],
   "source": [
    "responses['word_1'] = word_1\n",
    "responses['word_2'] = word_2"
   ]
  },
  {
   "cell_type": "code",
   "execution_count": null,
   "metadata": {},
   "outputs": [],
   "source": []
  },
  {
   "cell_type": "code",
   "execution_count": 30,
   "metadata": {},
   "outputs": [
    {
     "data": {
      "text/html": [
       "<div>\n",
       "<style scoped>\n",
       "    .dataframe tbody tr th:only-of-type {\n",
       "        vertical-align: middle;\n",
       "    }\n",
       "\n",
       "    .dataframe tbody tr th {\n",
       "        vertical-align: top;\n",
       "    }\n",
       "\n",
       "    .dataframe thead th {\n",
       "        text-align: right;\n",
       "    }\n",
       "</style>\n",
       "<table border=\"1\" class=\"dataframe\">\n",
       "  <thead>\n",
       "    <tr style=\"text-align: right;\">\n",
       "      <th></th>\n",
       "      <th>sub_type</th>\n",
       "      <th>int_type</th>\n",
       "      <th>int_type_1</th>\n",
       "      <th>int_type_2</th>\n",
       "      <th>sub_type_1</th>\n",
       "      <th>sub_type_2</th>\n",
       "      <th>word_1</th>\n",
       "      <th>word_2</th>\n",
       "      <th>response</th>\n",
       "    </tr>\n",
       "  </thead>\n",
       "  <tbody>\n",
       "    <tr>\n",
       "      <th>0</th>\n",
       "      <td>NaN</td>\n",
       "      <td>NaN</td>\n",
       "      <td>NaN</td>\n",
       "      <td>NaN</td>\n",
       "      <td>beautiful</td>\n",
       "      <td>sweet</td>\n",
       "      <td>value</td>\n",
       "      <td>taste</td>\n",
       "      <td>0.0</td>\n",
       "    </tr>\n",
       "    <tr>\n",
       "      <th>1</th>\n",
       "      <td>ugly</td>\n",
       "      <td>clean</td>\n",
       "      <td>NaN</td>\n",
       "      <td>NaN</td>\n",
       "      <td>NaN</td>\n",
       "      <td>NaN</td>\n",
       "      <td>value</td>\n",
       "      <td>appearance</td>\n",
       "      <td>1.0</td>\n",
       "    </tr>\n",
       "    <tr>\n",
       "      <th>2</th>\n",
       "      <td>NaN</td>\n",
       "      <td>NaN</td>\n",
       "      <td>NaN</td>\n",
       "      <td>NaN</td>\n",
       "      <td>tall</td>\n",
       "      <td>beautiful</td>\n",
       "      <td>height</td>\n",
       "      <td>value</td>\n",
       "      <td>0.0</td>\n",
       "    </tr>\n",
       "    <tr>\n",
       "      <th>3</th>\n",
       "      <td>ugly</td>\n",
       "      <td>dirty</td>\n",
       "      <td>NaN</td>\n",
       "      <td>NaN</td>\n",
       "      <td>NaN</td>\n",
       "      <td>NaN</td>\n",
       "      <td>value</td>\n",
       "      <td>appearance</td>\n",
       "      <td>1.0</td>\n",
       "    </tr>\n",
       "    <tr>\n",
       "      <th>4</th>\n",
       "      <td>NaN</td>\n",
       "      <td>NaN</td>\n",
       "      <td>clean</td>\n",
       "      <td>square</td>\n",
       "      <td>NaN</td>\n",
       "      <td>NaN</td>\n",
       "      <td>appearance</td>\n",
       "      <td>shape</td>\n",
       "      <td>1.0</td>\n",
       "    </tr>\n",
       "    <tr>\n",
       "      <th>...</th>\n",
       "      <td>...</td>\n",
       "      <td>...</td>\n",
       "      <td>...</td>\n",
       "      <td>...</td>\n",
       "      <td>...</td>\n",
       "      <td>...</td>\n",
       "      <td>...</td>\n",
       "      <td>...</td>\n",
       "      <td>...</td>\n",
       "    </tr>\n",
       "    <tr>\n",
       "      <th>1608</th>\n",
       "      <td>small</td>\n",
       "      <td>wooden</td>\n",
       "      <td>NaN</td>\n",
       "      <td>NaN</td>\n",
       "      <td>NaN</td>\n",
       "      <td>NaN</td>\n",
       "      <td>size</td>\n",
       "      <td>material</td>\n",
       "      <td>0.0</td>\n",
       "    </tr>\n",
       "    <tr>\n",
       "      <th>1609</th>\n",
       "      <td>big</td>\n",
       "      <td>red</td>\n",
       "      <td>NaN</td>\n",
       "      <td>NaN</td>\n",
       "      <td>NaN</td>\n",
       "      <td>NaN</td>\n",
       "      <td>size</td>\n",
       "      <td>color</td>\n",
       "      <td>1.0</td>\n",
       "    </tr>\n",
       "    <tr>\n",
       "      <th>1610</th>\n",
       "      <td>NaN</td>\n",
       "      <td>NaN</td>\n",
       "      <td>square</td>\n",
       "      <td>clean</td>\n",
       "      <td>NaN</td>\n",
       "      <td>NaN</td>\n",
       "      <td>shape</td>\n",
       "      <td>appearance</td>\n",
       "      <td>1.0</td>\n",
       "    </tr>\n",
       "    <tr>\n",
       "      <th>1611</th>\n",
       "      <td>ugly</td>\n",
       "      <td>square</td>\n",
       "      <td>NaN</td>\n",
       "      <td>NaN</td>\n",
       "      <td>NaN</td>\n",
       "      <td>NaN</td>\n",
       "      <td>value</td>\n",
       "      <td>shape</td>\n",
       "      <td>1.0</td>\n",
       "    </tr>\n",
       "    <tr>\n",
       "      <th>1612</th>\n",
       "      <td>NaN</td>\n",
       "      <td>NaN</td>\n",
       "      <td>NaN</td>\n",
       "      <td>NaN</td>\n",
       "      <td>ugly</td>\n",
       "      <td>sweet</td>\n",
       "      <td>value</td>\n",
       "      <td>taste</td>\n",
       "      <td>1.0</td>\n",
       "    </tr>\n",
       "  </tbody>\n",
       "</table>\n",
       "<p>1613 rows × 9 columns</p>\n",
       "</div>"
      ],
      "text/plain": [
       "     sub_type int_type int_type_1 int_type_2 sub_type_1 sub_type_2  \\\n",
       "0         NaN      NaN        NaN        NaN  beautiful      sweet   \n",
       "1        ugly    clean        NaN        NaN        NaN        NaN   \n",
       "2         NaN      NaN        NaN        NaN       tall  beautiful   \n",
       "3        ugly    dirty        NaN        NaN        NaN        NaN   \n",
       "4         NaN      NaN      clean     square        NaN        NaN   \n",
       "...       ...      ...        ...        ...        ...        ...   \n",
       "1608    small   wooden        NaN        NaN        NaN        NaN   \n",
       "1609      big      red        NaN        NaN        NaN        NaN   \n",
       "1610      NaN      NaN     square      clean        NaN        NaN   \n",
       "1611     ugly   square        NaN        NaN        NaN        NaN   \n",
       "1612      NaN      NaN        NaN        NaN       ugly      sweet   \n",
       "\n",
       "          word_1      word_2  response  \n",
       "0          value       taste       0.0  \n",
       "1          value  appearance       1.0  \n",
       "2         height       value       0.0  \n",
       "3          value  appearance       1.0  \n",
       "4     appearance       shape       1.0  \n",
       "...          ...         ...       ...  \n",
       "1608        size    material       0.0  \n",
       "1609        size       color       1.0  \n",
       "1610       shape  appearance       1.0  \n",
       "1611       value       shape       1.0  \n",
       "1612       value       taste       1.0  \n",
       "\n",
       "[1613 rows x 9 columns]"
      ]
     },
     "execution_count": 30,
     "metadata": {},
     "output_type": "execute_result"
    }
   ],
   "source": [
    "responses[['sub_type', 'int_type', 'int_type_1', 'int_type_2', 'sub_type_1', 'sub_type_2', 'word_1', 'word_2', 'response']]"
   ]
  },
  {
   "cell_type": "code",
   "execution_count": 63,
   "metadata": {},
   "outputs": [],
   "source": [
    "responses['response_2'] = responses['response']  # probability that word_2 should go first\n",
    "responses['response_1'] = 1 - responses['response']  # probability that word_1 should go first"
   ]
  },
  {
   "cell_type": "code",
   "execution_count": 82,
   "metadata": {},
   "outputs": [],
   "source": [
    "def get_class_mean(df):\n",
    "    class_sum = df.groupby('word_2')['response_2'].apply(sum) + df.groupby('word_1')['response_1'].apply(sum)\n",
    "    class_count = df.groupby('word_2')['response_2'].apply(len) + df.groupby('word_1')['response_1'].apply(len)\n",
    "    class_mean = (class_sum / class_count).sort_values(ascending=False)\n",
    "    return class_mean"
   ]
  },
  {
   "cell_type": "code",
   "execution_count": 83,
   "metadata": {},
   "outputs": [
    {
     "data": {
      "text/plain": [
       "word_2\n",
       "material      0.768595\n",
       "size          0.695424\n",
       "height        0.557428\n",
       "color         0.539575\n",
       "shape         0.457599\n",
       "appearance    0.414162\n",
       "taste         0.311198\n",
       "value         0.306759\n",
       "dtype: float64"
      ]
     },
     "execution_count": 83,
     "metadata": {},
     "output_type": "execute_result"
    }
   ],
   "source": [
    "get_class_mean(responses)"
   ]
  },
  {
   "cell_type": "code",
   "execution_count": 67,
   "metadata": {},
   "outputs": [
    {
     "data": {
      "text/html": [
       "<div>\n",
       "<style scoped>\n",
       "    .dataframe tbody tr th:only-of-type {\n",
       "        vertical-align: middle;\n",
       "    }\n",
       "\n",
       "    .dataframe tbody tr th {\n",
       "        vertical-align: top;\n",
       "    }\n",
       "\n",
       "    .dataframe thead th {\n",
       "        text-align: right;\n",
       "    }\n",
       "</style>\n",
       "<table border=\"1\" class=\"dataframe\">\n",
       "  <thead>\n",
       "    <tr style=\"text-align: right;\">\n",
       "      <th></th>\n",
       "      <th>Intersective_V</th>\n",
       "      <th>Intersective_E</th>\n",
       "      <th>Intersective_Class</th>\n",
       "      <th>Subsective_V</th>\n",
       "      <th>Subsective_E</th>\n",
       "      <th>Subsective_Class</th>\n",
       "    </tr>\n",
       "  </thead>\n",
       "  <tbody>\n",
       "    <tr>\n",
       "      <th>8</th>\n",
       "      <td>cái ly</td>\n",
       "      <td>cup</td>\n",
       "      <td>furniture</td>\n",
       "      <td>cái ghế</td>\n",
       "      <td>chair</td>\n",
       "      <td>furniture</td>\n",
       "    </tr>\n",
       "    <tr>\n",
       "      <th>9</th>\n",
       "      <td>cái bàn</td>\n",
       "      <td>table</td>\n",
       "      <td>furniture</td>\n",
       "      <td>cái xe</td>\n",
       "      <td>car</td>\n",
       "      <td>furniture</td>\n",
       "    </tr>\n",
       "    <tr>\n",
       "      <th>10</th>\n",
       "      <td>cái quạt</td>\n",
       "      <td>fan</td>\n",
       "      <td>furniture</td>\n",
       "      <td>trái chuối</td>\n",
       "      <td>banana</td>\n",
       "      <td>food</td>\n",
       "    </tr>\n",
       "    <tr>\n",
       "      <th>11</th>\n",
       "      <td>trái xoài</td>\n",
       "      <td>mango</td>\n",
       "      <td>food</td>\n",
       "      <td>xôi</td>\n",
       "      <td>sticky rice</td>\n",
       "      <td>food</td>\n",
       "    </tr>\n",
       "    <tr>\n",
       "      <th>12</th>\n",
       "      <td>cục kẹo</td>\n",
       "      <td>candy</td>\n",
       "      <td>food</td>\n",
       "      <td>trái ớt</td>\n",
       "      <td>pepper</td>\n",
       "      <td>food</td>\n",
       "    </tr>\n",
       "  </tbody>\n",
       "</table>\n",
       "</div>"
      ],
      "text/plain": [
       "   Intersective_V Intersective_E Intersective_Class Subsective_V Subsective_E  \\\n",
       "8          cái ly            cup          furniture      cái ghế        chair   \n",
       "9         cái bàn          table          furniture       cái xe          car   \n",
       "10       cái quạt            fan          furniture   trái chuối       banana   \n",
       "11      trái xoài          mango               food          xôi  sticky rice   \n",
       "12        cục kẹo          candy               food      trái ớt       pepper   \n",
       "\n",
       "   Subsective_Class  \n",
       "8         furniture  \n",
       "9         furniture  \n",
       "10             food  \n",
       "11             food  \n",
       "12             food  "
      ]
     },
     "execution_count": 67,
     "metadata": {},
     "output_type": "execute_result"
    }
   ],
   "source": [
    "filters_noun"
   ]
  },
  {
   "cell_type": "code",
   "execution_count": 70,
   "metadata": {},
   "outputs": [],
   "source": [
    "noun_dict = dict(zip(filters_noun['Intersective_E'], filters_noun['Intersective_Class']))\n",
    "noun_dict.update(dict(zip(filters_noun['Subsective_E'], filters_noun['Subsective_Class'])))"
   ]
  },
  {
   "cell_type": "code",
   "execution_count": 75,
   "metadata": {},
   "outputs": [
    {
     "data": {
      "text/plain": [
       "{'cup': 'furniture',\n",
       " 'table': 'furniture',\n",
       " 'fan': 'furniture',\n",
       " 'mango': 'food',\n",
       " 'candy': 'food',\n",
       " 'chair': 'furniture',\n",
       " 'car': 'furniture',\n",
       " 'banana': 'food',\n",
       " 'sticky rice': 'food',\n",
       " 'pepper': 'food'}"
      ]
     },
     "execution_count": 75,
     "metadata": {},
     "output_type": "execute_result"
    }
   ],
   "source": [
    "noun_dict"
   ]
  },
  {
   "cell_type": "code",
   "execution_count": 79,
   "metadata": {},
   "outputs": [],
   "source": [
    "responses['noun_class'] = responses['noun_type'].replace(noun_dict)"
   ]
  },
  {
   "cell_type": "code",
   "execution_count": 84,
   "metadata": {},
   "outputs": [
    {
     "data": {
      "text/plain": [
       "noun_class  word_2    \n",
       "food        size          0.721757\n",
       "            color         0.615079\n",
       "            shape         0.508041\n",
       "            appearance    0.459161\n",
       "            value         0.380851\n",
       "            taste         0.311198\n",
       "furniture   material      0.768595\n",
       "            size          0.674444\n",
       "            height        0.557428\n",
       "            color         0.440476\n",
       "            shape         0.389546\n",
       "            appearance    0.345178\n",
       "            value         0.242979\n",
       "dtype: float64"
      ]
     },
     "execution_count": 84,
     "metadata": {},
     "output_type": "execute_result"
    }
   ],
   "source": [
    "responses.groupby('noun_class').apply(get_class_mean)"
   ]
  },
  {
   "cell_type": "code",
   "execution_count": null,
   "metadata": {},
   "outputs": [],
   "source": []
  }
 ],
 "metadata": {
  "kernelspec": {
   "display_name": "Python 3",
   "language": "python",
   "name": "python3"
  },
  "language_info": {
   "codemirror_mode": {
    "name": "ipython",
    "version": 3
   },
   "file_extension": ".py",
   "mimetype": "text/x-python",
   "name": "python",
   "nbconvert_exporter": "python",
   "pygments_lexer": "ipython3",
   "version": "3.7.5"
  }
 },
 "nbformat": 4,
 "nbformat_minor": 2
}
